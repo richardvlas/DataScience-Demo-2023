{
  "nbformat": 4,
  "nbformat_minor": 0,
  "metadata": {
    "colab": {
      "provenance": [],
      "authorship_tag": "ABX9TyPKxSK/cS8t5fpD7ljk9SmH",
      "include_colab_link": true
    },
    "kernelspec": {
      "name": "python3",
      "display_name": "Python 3"
    },
    "language_info": {
      "name": "python"
    }
  },
  "cells": [
    {
      "cell_type": "markdown",
      "metadata": {
        "id": "view-in-github",
        "colab_type": "text"
      },
      "source": [
        "<a href=\"https://colab.research.google.com/github/richardvlas/DataScience-Demo-2023/blob/main/DataScienceNotebook.ipynb\" target=\"_parent\"><img src=\"https://colab.research.google.com/assets/colab-badge.svg\" alt=\"Open In Colab\"/></a>"
      ]
    },
    {
      "cell_type": "markdown",
      "source": [
        "## Data Ingestion"
      ],
      "metadata": {
        "id": "tVJe2qYIgcnA"
      }
    },
    {
      "cell_type": "markdown",
      "source": [
        "## EDA"
      ],
      "metadata": {
        "id": "XEgzwHYNghwC"
      }
    },
    {
      "cell_type": "code",
      "source": [],
      "metadata": {
        "id": "rtHTf1GtgR3i"
      },
      "execution_count": null,
      "outputs": []
    },
    {
      "cell_type": "markdown",
      "source": [
        "## Modelling"
      ],
      "metadata": {
        "id": "RqPCbO4_gk4k"
      }
    },
    {
      "cell_type": "code",
      "source": [],
      "metadata": {
        "id": "bpuP7gmOgm21"
      },
      "execution_count": null,
      "outputs": []
    },
    {
      "cell_type": "markdown",
      "source": [
        "## Conclusion"
      ],
      "metadata": {
        "id": "5q4tHC_PgniB"
      }
    },
    {
      "cell_type": "code",
      "source": [],
      "metadata": {
        "id": "MWGcOEVIgpxR"
      },
      "execution_count": null,
      "outputs": []
    }
  ]
}